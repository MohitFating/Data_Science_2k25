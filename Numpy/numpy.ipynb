{
 "cells": [
  {
   "cell_type": "code",
   "execution_count": 1,
   "id": "0117d7bc-da47-4ceb-9125-f72c3db8bb20",
   "metadata": {},
   "outputs": [
    {
     "name": "stdout",
     "output_type": "stream",
     "text": [
      "Requirement already satisfied: numpy in c:\\users\\xmrmo\\appdata\\local\\programs\\python\\python312\\lib\\site-packages (2.2.2)\n",
      "Note: you may need to restart the kernel to use updated packages.\n"
     ]
    }
   ],
   "source": [
    "pip install numpy"
   ]
  },
  {
   "cell_type": "code",
   "execution_count": 2,
   "id": "833b90dc-3e19-4d06-8412-08a422df7c89",
   "metadata": {},
   "outputs": [],
   "source": [
    "# Array fundamentals"
   ]
  },
  {
   "cell_type": "code",
   "execution_count": 3,
   "id": "66465e8f-7cc4-4de6-8522-693e768ac9b9",
   "metadata": {},
   "outputs": [],
   "source": [
    "import numpy as np"
   ]
  },
  {
   "cell_type": "code",
   "execution_count": 4,
   "id": "87284b29-4542-4eb2-a029-0e78fc8f2f4d",
   "metadata": {},
   "outputs": [],
   "source": [
    "a = np.array([[1,2,3],[4,5,6]])"
   ]
  },
  {
   "cell_type": "code",
   "execution_count": 5,
   "id": "70df3f26-cb23-4e5f-829a-843914a9f085",
   "metadata": {},
   "outputs": [
    {
     "data": {
      "text/plain": [
       "(2, 3)"
      ]
     },
     "execution_count": 5,
     "metadata": {},
     "output_type": "execute_result"
    }
   ],
   "source": [
    "a.shape"
   ]
  },
  {
   "cell_type": "code",
   "execution_count": 6,
   "id": "0206daf0-58ca-4e9b-bc21-7f4957057ac9",
   "metadata": {},
   "outputs": [
    {
     "data": {
      "text/plain": [
       "array([[1, 2, 3],\n",
       "       [4, 5, 6]])"
      ]
     },
     "execution_count": 6,
     "metadata": {},
     "output_type": "execute_result"
    }
   ],
   "source": [
    "a"
   ]
  },
  {
   "cell_type": "code",
   "execution_count": 7,
   "id": "44140764-b232-4420-85a9-dfe1937c7c52",
   "metadata": {},
   "outputs": [
    {
     "data": {
      "text/plain": [
       "array([4, 5, 6])"
      ]
     },
     "execution_count": 7,
     "metadata": {},
     "output_type": "execute_result"
    }
   ],
   "source": [
    "a[1]"
   ]
  },
  {
   "cell_type": "code",
   "execution_count": 8,
   "id": "e6aa78bc-65ab-4b77-99a0-b5d422fd91c8",
   "metadata": {},
   "outputs": [
    {
     "data": {
      "text/plain": [
       "array([1, 2, 3])"
      ]
     },
     "execution_count": 8,
     "metadata": {},
     "output_type": "execute_result"
    }
   ],
   "source": [
    "a[0]"
   ]
  },
  {
   "cell_type": "code",
   "execution_count": 9,
   "id": "e1adc613-ad0f-496c-a9de-d6eda0472cff",
   "metadata": {},
   "outputs": [],
   "source": [
    "a[0]=5"
   ]
  },
  {
   "cell_type": "code",
   "execution_count": 10,
   "id": "69053dab-ab06-4844-b9f3-fc2865db494d",
   "metadata": {},
   "outputs": [
    {
     "data": {
      "text/plain": [
       "array([[5, 5, 5],\n",
       "       [4, 5, 6]])"
      ]
     },
     "execution_count": 10,
     "metadata": {},
     "output_type": "execute_result"
    }
   ],
   "source": [
    "a"
   ]
  },
  {
   "cell_type": "code",
   "execution_count": 11,
   "id": "c7751778-0949-40cb-b9c4-43c0575cdb4e",
   "metadata": {},
   "outputs": [],
   "source": [
    "b=np.array([1,2,3,4,5,6,7,8,9])"
   ]
  },
  {
   "cell_type": "code",
   "execution_count": 12,
   "id": "1bc9e25b-9ef6-4d64-ba7f-93b057e89cba",
   "metadata": {},
   "outputs": [
    {
     "data": {
      "text/plain": [
       "array([1, 2, 3, 4, 5, 6, 7, 8, 9])"
      ]
     },
     "execution_count": 12,
     "metadata": {},
     "output_type": "execute_result"
    }
   ],
   "source": [
    "b"
   ]
  },
  {
   "cell_type": "code",
   "execution_count": 13,
   "id": "26ba9b06-d4c2-4a41-a723-1f6a051bf5fe",
   "metadata": {},
   "outputs": [
    {
     "data": {
      "text/plain": [
       "np.int64(6)"
      ]
     },
     "execution_count": 13,
     "metadata": {},
     "output_type": "execute_result"
    }
   ],
   "source": [
    "b[5]"
   ]
  },
  {
   "cell_type": "code",
   "execution_count": 14,
   "id": "e6746878-91e7-47af-b6ad-19841c5754f5",
   "metadata": {},
   "outputs": [],
   "source": [
    "b[4]=4"
   ]
  },
  {
   "cell_type": "code",
   "execution_count": 15,
   "id": "15269a0e-a43c-41ad-a4fa-b48ea8752b14",
   "metadata": {},
   "outputs": [
    {
     "data": {
      "text/plain": [
       "array([1, 2, 3, 4, 4, 6, 7, 8, 9])"
      ]
     },
     "execution_count": 15,
     "metadata": {},
     "output_type": "execute_result"
    }
   ],
   "source": [
    "b"
   ]
  },
  {
   "cell_type": "code",
   "execution_count": 16,
   "id": "6d16dd9c-f511-434c-9143-2404f347f86f",
   "metadata": {},
   "outputs": [
    {
     "data": {
      "text/plain": [
       "array([1, 2, 3, 4, 4])"
      ]
     },
     "execution_count": 16,
     "metadata": {},
     "output_type": "execute_result"
    }
   ],
   "source": [
    "b[:5]"
   ]
  },
  {
   "cell_type": "code",
   "execution_count": 17,
   "id": "e48d178d-44b9-401c-b8bb-7476aaec5aed",
   "metadata": {},
   "outputs": [
    {
     "data": {
      "text/plain": [
       "array([6, 7, 8, 9])"
      ]
     },
     "execution_count": 17,
     "metadata": {},
     "output_type": "execute_result"
    }
   ],
   "source": [
    "b[5:]"
   ]
  },
  {
   "cell_type": "code",
   "execution_count": 18,
   "id": "4418bbab-6073-422e-812b-97a4f9f798b5",
   "metadata": {},
   "outputs": [
    {
     "data": {
      "text/plain": [
       "array([1, 2, 3, 4, 4, 6, 7, 8, 9])"
      ]
     },
     "execution_count": 18,
     "metadata": {},
     "output_type": "execute_result"
    }
   ],
   "source": [
    "b"
   ]
  },
  {
   "cell_type": "code",
   "execution_count": 19,
   "id": "3591b360-72dd-4100-9824-1ec8982f026f",
   "metadata": {},
   "outputs": [],
   "source": [
    "c=np.array([[1,2,3],[4,5,6],[7,8,9]])"
   ]
  },
  {
   "cell_type": "code",
   "execution_count": 20,
   "id": "42c72b60-3b83-4005-aa7b-1a500581ca09",
   "metadata": {},
   "outputs": [
    {
     "data": {
      "text/plain": [
       "array([[1, 2, 3],\n",
       "       [4, 5, 6],\n",
       "       [7, 8, 9]])"
      ]
     },
     "execution_count": 20,
     "metadata": {},
     "output_type": "execute_result"
    }
   ],
   "source": [
    "c"
   ]
  },
  {
   "cell_type": "code",
   "execution_count": 21,
   "id": "c3e5a52f-2812-460c-a04c-577f6bff3e43",
   "metadata": {},
   "outputs": [
    {
     "data": {
      "text/plain": [
       "np.int64(5)"
      ]
     },
     "execution_count": 21,
     "metadata": {},
     "output_type": "execute_result"
    }
   ],
   "source": [
    "c[1, 1] #location of 5"
   ]
  },
  {
   "cell_type": "code",
   "execution_count": 22,
   "id": "44bf0bf9-1901-42d2-95d0-ebb3c36e73ea",
   "metadata": {},
   "outputs": [],
   "source": [
    "# Array attributes"
   ]
  },
  {
   "cell_type": "code",
   "execution_count": 23,
   "id": "ae16d3f1-3242-4555-be6e-3e9d0740e58f",
   "metadata": {},
   "outputs": [
    {
     "data": {
      "text/plain": [
       "2"
      ]
     },
     "execution_count": 23,
     "metadata": {},
     "output_type": "execute_result"
    }
   ],
   "source": [
    "c.ndim"
   ]
  },
  {
   "cell_type": "code",
   "execution_count": 24,
   "id": "5706758a-5d7c-4ddf-b660-dbb38e23ddf8",
   "metadata": {},
   "outputs": [
    {
     "data": {
      "text/plain": [
       "1"
      ]
     },
     "execution_count": 24,
     "metadata": {},
     "output_type": "execute_result"
    }
   ],
   "source": [
    "b.ndim"
   ]
  },
  {
   "cell_type": "code",
   "execution_count": 25,
   "id": "77a2e796-61ff-4f10-8d88-34748c0878b4",
   "metadata": {},
   "outputs": [
    {
     "data": {
      "text/plain": [
       "(3, 3)"
      ]
     },
     "execution_count": 25,
     "metadata": {},
     "output_type": "execute_result"
    }
   ],
   "source": [
    "c.shape"
   ]
  },
  {
   "cell_type": "code",
   "execution_count": 26,
   "id": "e569c3ac-08ae-4882-85d8-7cf076754a5c",
   "metadata": {},
   "outputs": [
    {
     "data": {
      "text/plain": [
       "2"
      ]
     },
     "execution_count": 26,
     "metadata": {},
     "output_type": "execute_result"
    }
   ],
   "source": [
    "len(c.shape)"
   ]
  },
  {
   "cell_type": "code",
   "execution_count": 27,
   "id": "6531dd8f-d860-4940-a6e0-16efceb53987",
   "metadata": {},
   "outputs": [
    {
     "data": {
      "text/plain": [
       "True"
      ]
     },
     "execution_count": 27,
     "metadata": {},
     "output_type": "execute_result"
    }
   ],
   "source": [
    "len(c.shape)==c.ndim"
   ]
  },
  {
   "cell_type": "code",
   "execution_count": 28,
   "id": "ef59b127-33ee-4888-b9ef-6e9860967b0e",
   "metadata": {},
   "outputs": [
    {
     "data": {
      "text/plain": [
       "9"
      ]
     },
     "execution_count": 28,
     "metadata": {},
     "output_type": "execute_result"
    }
   ],
   "source": [
    "c.size"
   ]
  },
  {
   "cell_type": "code",
   "execution_count": 29,
   "id": "d0acc60b-0e96-4f61-bf63-2bbe3c97fbf7",
   "metadata": {},
   "outputs": [
    {
     "data": {
      "text/plain": [
       "9"
      ]
     },
     "execution_count": 29,
     "metadata": {},
     "output_type": "execute_result"
    }
   ],
   "source": [
    "import math\n",
    "math.prod(c.shape)"
   ]
  },
  {
   "cell_type": "code",
   "execution_count": 30,
   "id": "96a1a3f1-7d6a-46e7-b701-d47d49c5c22b",
   "metadata": {},
   "outputs": [
    {
     "data": {
      "text/plain": [
       "True"
      ]
     },
     "execution_count": 30,
     "metadata": {},
     "output_type": "execute_result"
    }
   ],
   "source": [
    "c.size==math.prod(c.shape)"
   ]
  },
  {
   "cell_type": "code",
   "execution_count": 31,
   "id": "222b428e-150f-4ca8-868c-ffe93eb25e69",
   "metadata": {},
   "outputs": [
    {
     "data": {
      "text/plain": [
       "dtype('int64')"
      ]
     },
     "execution_count": 31,
     "metadata": {},
     "output_type": "execute_result"
    }
   ],
   "source": [
    "c.dtype"
   ]
  },
  {
   "cell_type": "code",
   "execution_count": 32,
   "id": "e1a477a2-16cb-4cf1-a5b1-f7824e55321d",
   "metadata": {},
   "outputs": [],
   "source": [
    "# How to create a basic array"
   ]
  },
  {
   "cell_type": "code",
   "execution_count": 33,
   "id": "a9ab5591-12c3-4b18-bb94-4f6764e385ad",
   "metadata": {},
   "outputs": [
    {
     "data": {
      "text/plain": [
       "array([0., 0.])"
      ]
     },
     "execution_count": 33,
     "metadata": {},
     "output_type": "execute_result"
    }
   ],
   "source": [
    "np.zeros(2)"
   ]
  },
  {
   "cell_type": "code",
   "execution_count": 34,
   "id": "ea6e5914-7acc-40fd-8322-f8387d51a33f",
   "metadata": {},
   "outputs": [
    {
     "data": {
      "text/plain": [
       "array([1., 1.])"
      ]
     },
     "execution_count": 34,
     "metadata": {},
     "output_type": "execute_result"
    }
   ],
   "source": [
    "np.ones(2)"
   ]
  },
  {
   "cell_type": "code",
   "execution_count": 35,
   "id": "81f88cb5-6bc2-4925-926a-02dc76e5246a",
   "metadata": {},
   "outputs": [
    {
     "data": {
      "text/plain": [
       "array([ 1.24922479e-311,  0.00000000e+000, -3.96236456e-133])"
      ]
     },
     "execution_count": 35,
     "metadata": {},
     "output_type": "execute_result"
    }
   ],
   "source": [
    "np.empty(3)"
   ]
  },
  {
   "cell_type": "code",
   "execution_count": 36,
   "id": "bc5b4f6d-831c-4229-abe1-d3a0f5ac4590",
   "metadata": {},
   "outputs": [
    {
     "data": {
      "text/plain": [
       "array([ 2,  4,  6,  8, 10, 12, 14, 16, 18, 20])"
      ]
     },
     "execution_count": 36,
     "metadata": {},
     "output_type": "execute_result"
    }
   ],
   "source": [
    "np.arange(2,22,2) # start with 2 and end with before 22 with diffrence 2"
   ]
  },
  {
   "cell_type": "code",
   "execution_count": 37,
   "id": "cb6e7e15-a273-495d-810a-2802fa0e3b17",
   "metadata": {},
   "outputs": [
    {
     "data": {
      "text/plain": [
       "array([ 0.        ,  1.42857143,  2.85714286,  4.28571429,  5.71428571,\n",
       "        7.14285714,  8.57142857, 10.        ])"
      ]
     },
     "execution_count": 37,
     "metadata": {},
     "output_type": "execute_result"
    }
   ],
   "source": [
    "np.linspace(0,10,num=8) # start with 0 and end with 10 with split equaly num 8"
   ]
  },
  {
   "cell_type": "code",
   "execution_count": 38,
   "id": "2c7f289a-b65d-439b-a3a4-52f32f4b39b1",
   "metadata": {},
   "outputs": [],
   "source": [
    "x = np.ones(2, dtype=np.int64)"
   ]
  },
  {
   "cell_type": "code",
   "execution_count": 39,
   "id": "cad95a85-aabc-4314-a95c-12c9e7b7adb7",
   "metadata": {},
   "outputs": [
    {
     "data": {
      "text/plain": [
       "array([1, 1])"
      ]
     },
     "execution_count": 39,
     "metadata": {},
     "output_type": "execute_result"
    }
   ],
   "source": [
    "x"
   ]
  },
  {
   "cell_type": "code",
   "execution_count": 40,
   "id": "98332bcd-003a-4003-985f-ac2828afd629",
   "metadata": {},
   "outputs": [],
   "source": [
    "# Adding, removing, and sorting elements"
   ]
  },
  {
   "cell_type": "code",
   "execution_count": 41,
   "id": "1a44eddf-240c-4dda-9685-5d901616e171",
   "metadata": {},
   "outputs": [],
   "source": [
    "arr = np.array([5,4,9,7,3,3,4,8,1,2,3,89,7,6,12])"
   ]
  },
  {
   "cell_type": "code",
   "execution_count": 42,
   "id": "fe0338bc-5ceb-440f-81a1-7ea4bdc22fe7",
   "metadata": {},
   "outputs": [
    {
     "data": {
      "text/plain": [
       "array([ 1,  2,  3,  3,  3,  4,  4,  5,  6,  7,  7,  8,  9, 12, 89])"
      ]
     },
     "execution_count": 42,
     "metadata": {},
     "output_type": "execute_result"
    }
   ],
   "source": [
    "np.sort(arr)"
   ]
  },
  {
   "cell_type": "code",
   "execution_count": 43,
   "id": "b162a35f-681b-40d7-aacc-961669a0653f",
   "metadata": {},
   "outputs": [],
   "source": [
    "brr=np.array([7,8,4,56,98,756,4,23,187,69,98])"
   ]
  },
  {
   "cell_type": "code",
   "execution_count": 44,
   "id": "b1dd23ea-0083-4515-b26b-86c78f987f47",
   "metadata": {},
   "outputs": [],
   "source": [
    "con=np.concatenate((arr,brr))"
   ]
  },
  {
   "cell_type": "code",
   "execution_count": 45,
   "id": "f557ff17-8c2e-4060-b820-dd96ce11030b",
   "metadata": {},
   "outputs": [
    {
     "data": {
      "text/plain": [
       "array([  5,   4,   9,   7,   3,   3,   4,   8,   1,   2,   3,  89,   7,\n",
       "         6,  12,   7,   8,   4,  56,  98, 756,   4,  23, 187,  69,  98])"
      ]
     },
     "execution_count": 45,
     "metadata": {},
     "output_type": "execute_result"
    }
   ],
   "source": [
    "con"
   ]
  },
  {
   "cell_type": "code",
   "execution_count": 46,
   "id": "4a21f231-1205-44a3-9354-5d89b4baac05",
   "metadata": {},
   "outputs": [
    {
     "data": {
      "text/plain": [
       "array([  1,   2,   3,   3,   3,   4,   4,   4,   4,   5,   6,   7,   7,\n",
       "         7,   8,   8,   9,  12,  23,  56,  69,  89,  98,  98, 187, 756])"
      ]
     },
     "execution_count": 46,
     "metadata": {},
     "output_type": "execute_result"
    }
   ],
   "source": [
    "np.sort(con)"
   ]
  },
  {
   "cell_type": "code",
   "execution_count": 47,
   "id": "e7ef9346-2580-47cd-98a1-4e49f91bbffa",
   "metadata": {},
   "outputs": [
    {
     "data": {
      "text/plain": [
       "array([[4, 5, 6],\n",
       "       [8, 5, 2],\n",
       "       [6, 5, 4],\n",
       "       [9, 5, 1]])"
      ]
     },
     "execution_count": 47,
     "metadata": {},
     "output_type": "execute_result"
    }
   ],
   "source": [
    "x=np.array([[4,5,6],[8,5,2]])\n",
    "y=np.array([[6,5,4],[9,5,1]])\n",
    "np.concatenate((x,y), axis=0)"
   ]
  },
  {
   "cell_type": "code",
   "execution_count": 48,
   "id": "79d526ec-1fa0-47c9-8615-99f11507bd1b",
   "metadata": {},
   "outputs": [],
   "source": [
    "array_example=np.array([[[0,1,2,3],[4,5,6,8]],[[0,1,2,3],[4,5,6,8]],[[0,1,2,3],[4,5,6,8]]])"
   ]
  },
  {
   "cell_type": "code",
   "execution_count": 49,
   "id": "0334fbc7-f9ec-4d99-ae26-452a53e15fdc",
   "metadata": {},
   "outputs": [
    {
     "data": {
      "text/plain": [
       "3"
      ]
     },
     "execution_count": 49,
     "metadata": {},
     "output_type": "execute_result"
    }
   ],
   "source": [
    "array_example.ndim"
   ]
  },
  {
   "cell_type": "code",
   "execution_count": 50,
   "id": "68bb7089-b473-4357-9b54-fc1842a2fcd0",
   "metadata": {},
   "outputs": [
    {
     "data": {
      "text/plain": [
       "24"
      ]
     },
     "execution_count": 50,
     "metadata": {},
     "output_type": "execute_result"
    }
   ],
   "source": [
    "array_example.size"
   ]
  },
  {
   "cell_type": "code",
   "execution_count": 51,
   "id": "5f1c1963-6de5-48f6-a4f1-8c9639d71d45",
   "metadata": {},
   "outputs": [
    {
     "data": {
      "text/plain": [
       "(3, 2, 4)"
      ]
     },
     "execution_count": 51,
     "metadata": {},
     "output_type": "execute_result"
    }
   ],
   "source": [
    "array_example.shape"
   ]
  },
  {
   "cell_type": "code",
   "execution_count": 52,
   "id": "38362180-c52a-4c21-98e6-69fa32e36f9b",
   "metadata": {},
   "outputs": [],
   "source": [
    "# Can you reshape an array?"
   ]
  },
  {
   "cell_type": "code",
   "execution_count": 53,
   "id": "73147c20-fec3-47fe-8302-ea88cb574f47",
   "metadata": {},
   "outputs": [],
   "source": [
    "d= np.arange(6)"
   ]
  },
  {
   "cell_type": "code",
   "execution_count": 54,
   "id": "7a6b40bc-b99e-4625-8568-26734c472e7a",
   "metadata": {},
   "outputs": [
    {
     "data": {
      "text/plain": [
       "array([0, 1, 2, 3, 4, 5])"
      ]
     },
     "execution_count": 54,
     "metadata": {},
     "output_type": "execute_result"
    }
   ],
   "source": [
    "d"
   ]
  },
  {
   "cell_type": "code",
   "execution_count": 55,
   "id": "73934b38-aab6-4bf7-92f4-4b72ccdd3041",
   "metadata": {},
   "outputs": [],
   "source": [
    "e=d.reshape(3,2)"
   ]
  },
  {
   "cell_type": "code",
   "execution_count": 56,
   "id": "9ffef98a-93c4-4018-a56d-b5dd6c89e0d7",
   "metadata": {},
   "outputs": [
    {
     "data": {
      "text/plain": [
       "array([[0, 1],\n",
       "       [2, 3],\n",
       "       [4, 5]])"
      ]
     },
     "execution_count": 56,
     "metadata": {},
     "output_type": "execute_result"
    }
   ],
   "source": [
    "e"
   ]
  },
  {
   "cell_type": "code",
   "execution_count": 57,
   "id": "02eeba01-ab99-480d-b17e-f0016457925c",
   "metadata": {},
   "outputs": [
    {
     "data": {
      "text/plain": [
       "array([[0, 1, 2, 3, 4, 5]])"
      ]
     },
     "execution_count": 57,
     "metadata": {},
     "output_type": "execute_result"
    }
   ],
   "source": [
    "np.reshape(d, shape=(1,6), order='C') # order: C means to read/write the elements using C-like index order"
   ]
  },
  {
   "cell_type": "code",
   "execution_count": 58,
   "id": "d4c158da-7bd2-4e63-ac4c-af890b543289",
   "metadata": {},
   "outputs": [],
   "source": [
    "# How to convert a 1D array into a 2D array (how to add a new axis to an array)"
   ]
  },
  {
   "cell_type": "code",
   "execution_count": 59,
   "id": "d7191650-0abe-4811-946e-947cc4ade3c5",
   "metadata": {},
   "outputs": [
    {
     "data": {
      "text/plain": [
       "(6,)"
      ]
     },
     "execution_count": 59,
     "metadata": {},
     "output_type": "execute_result"
    }
   ],
   "source": [
    "a=np.array([1,2,3,4,5,6])\n",
    "a.shape"
   ]
  },
  {
   "cell_type": "code",
   "execution_count": 60,
   "id": "388f889d-9efa-4a3d-8c53-48716a10a7d3",
   "metadata": {},
   "outputs": [],
   "source": [
    "a2_row = a[np.newaxis,:] # Row"
   ]
  },
  {
   "cell_type": "code",
   "execution_count": 61,
   "id": "dca4f3f2-f5d9-48ae-b540-bc5cde2be35b",
   "metadata": {},
   "outputs": [
    {
     "data": {
      "text/plain": [
       "(1, 6)"
      ]
     },
     "execution_count": 61,
     "metadata": {},
     "output_type": "execute_result"
    }
   ],
   "source": [
    "a2_row.shape"
   ]
  },
  {
   "cell_type": "code",
   "execution_count": 62,
   "id": "3800722f-2b3b-4677-82ce-d003c02b82c2",
   "metadata": {},
   "outputs": [],
   "source": [
    "a3_col=a[:,np.newaxis] # Coloumn"
   ]
  },
  {
   "cell_type": "code",
   "execution_count": 63,
   "id": "4089c26d-062f-4478-b6a9-38373dc41621",
   "metadata": {},
   "outputs": [
    {
     "data": {
      "text/plain": [
       "(6, 1)"
      ]
     },
     "execution_count": 63,
     "metadata": {},
     "output_type": "execute_result"
    }
   ],
   "source": [
    "a3_col.shape"
   ]
  },
  {
   "cell_type": "code",
   "execution_count": 94,
   "id": "71510a0d-81cc-40d3-b54f-e0cfd713e77f",
   "metadata": {},
   "outputs": [],
   "source": [
    "b=np.arange(0,10,6)"
   ]
  },
  {
   "cell_type": "code",
   "execution_count": 95,
   "id": "79c89a68-4a94-4d95-ab31-cdcd85e32951",
   "metadata": {},
   "outputs": [
    {
     "data": {
      "text/plain": [
       "array([0, 6])"
      ]
     },
     "execution_count": 95,
     "metadata": {},
     "output_type": "execute_result"
    }
   ],
   "source": [
    "b"
   ]
  },
  {
   "cell_type": "code",
   "execution_count": 96,
   "id": "3e78ed8d-7f36-4aea-a3fd-e5b21276412d",
   "metadata": {},
   "outputs": [],
   "source": [
    " a= np.ones((3, 3), dtype=np.int64)"
   ]
  },
  {
   "cell_type": "code",
   "execution_count": 97,
   "id": "0b218dad-dcf6-446d-9b7a-9fe0079e1f40",
   "metadata": {},
   "outputs": [
    {
     "data": {
      "text/plain": [
       "array([[1, 1, 1],\n",
       "       [1, 1, 1],\n",
       "       [1, 1, 1]])"
      ]
     },
     "execution_count": 97,
     "metadata": {},
     "output_type": "execute_result"
    }
   ],
   "source": [
    "a"
   ]
  },
  {
   "cell_type": "code",
   "execution_count": 123,
   "id": "ba1a4d3d-7dba-4691-9fcd-43092b6c2f74",
   "metadata": {},
   "outputs": [],
   "source": [
    "c=np.linspace(1,9,9)"
   ]
  },
  {
   "cell_type": "code",
   "execution_count": 124,
   "id": "cca5c252-3f73-483a-8a28-e7f6b15db7eb",
   "metadata": {},
   "outputs": [
    {
     "data": {
      "text/plain": [
       "array([1., 2., 3., 4., 5., 6., 7., 8., 9.])"
      ]
     },
     "execution_count": 124,
     "metadata": {},
     "output_type": "execute_result"
    }
   ],
   "source": [
    "c"
   ]
  },
  {
   "cell_type": "code",
   "execution_count": 110,
   "id": "ae0e35d4-39c7-42b5-a29c-8ef9e5e6a641",
   "metadata": {},
   "outputs": [],
   "source": [
    "d=np.eye(3)"
   ]
  },
  {
   "cell_type": "code",
   "execution_count": 112,
   "id": "3789cd00-d146-4a26-a000-71d373db508d",
   "metadata": {},
   "outputs": [
    {
     "data": {
      "text/plain": [
       "array([[1., 0., 0.],\n",
       "       [0., 1., 0.],\n",
       "       [0., 0., 1.]])"
      ]
     },
     "execution_count": 112,
     "metadata": {},
     "output_type": "execute_result"
    }
   ],
   "source": [
    "d"
   ]
  },
  {
   "cell_type": "code",
   "execution_count": 125,
   "id": "bb902377-e52a-4a1d-891c-6eb9c53c8fb2",
   "metadata": {},
   "outputs": [
    {
     "data": {
      "text/plain": [
       "array([1., 2., 3., 4., 5., 6., 7., 8., 9.])"
      ]
     },
     "execution_count": 125,
     "metadata": {},
     "output_type": "execute_result"
    }
   ],
   "source": [
    "c"
   ]
  },
  {
   "cell_type": "code",
   "execution_count": 126,
   "id": "247c193e-03c1-4d36-b56f-da6536949f36",
   "metadata": {},
   "outputs": [],
   "source": [
    "f=c.reshape(3,3)"
   ]
  },
  {
   "cell_type": "code",
   "execution_count": 128,
   "id": "e40a80d1-5360-4c5b-9308-f3ea6da58708",
   "metadata": {},
   "outputs": [
    {
     "data": {
      "text/plain": [
       "array([[1., 2., 3.],\n",
       "       [4., 5., 6.],\n",
       "       [7., 8., 9.]])"
      ]
     },
     "execution_count": 128,
     "metadata": {},
     "output_type": "execute_result"
    }
   ],
   "source": [
    "f"
   ]
  },
  {
   "cell_type": "code",
   "execution_count": 129,
   "id": "af4fdfcd-3e84-48b0-a03f-d75c7abdb2e5",
   "metadata": {},
   "outputs": [],
   "source": [
    "g=np.arange(10)"
   ]
  },
  {
   "cell_type": "code",
   "execution_count": 130,
   "id": "de48118e-35a2-4c75-b129-243841937671",
   "metadata": {},
   "outputs": [
    {
     "data": {
      "text/plain": [
       "array([0, 1, 2, 3, 4, 5, 6, 7, 8, 9])"
      ]
     },
     "execution_count": 130,
     "metadata": {},
     "output_type": "execute_result"
    }
   ],
   "source": [
    "g"
   ]
  },
  {
   "cell_type": "code",
   "execution_count": 140,
   "id": "2dde3c95-0a77-469e-8fad-b362d9b91c35",
   "metadata": {},
   "outputs": [],
   "source": [
    "h=g.reshape(5,2)"
   ]
  },
  {
   "cell_type": "code",
   "execution_count": 141,
   "id": "7edb2eae-ce41-4518-92f0-8dda6bb206af",
   "metadata": {},
   "outputs": [
    {
     "data": {
      "text/plain": [
       "array([[0, 1],\n",
       "       [2, 3],\n",
       "       [4, 5],\n",
       "       [6, 7],\n",
       "       [8, 9]])"
      ]
     },
     "execution_count": 141,
     "metadata": {},
     "output_type": "execute_result"
    }
   ],
   "source": [
    "h"
   ]
  },
  {
   "cell_type": "code",
   "execution_count": 142,
   "id": "8baad499-8820-4c7a-963f-b54b8e441acb",
   "metadata": {},
   "outputs": [
    {
     "data": {
      "text/plain": [
       "array([4, 5])"
      ]
     },
     "execution_count": 142,
     "metadata": {},
     "output_type": "execute_result"
    }
   ],
   "source": [
    "h[2]"
   ]
  },
  {
   "cell_type": "code",
   "execution_count": 143,
   "id": "990a7585-1ae6-4830-9e54-ffd1a83dca6f",
   "metadata": {},
   "outputs": [],
   "source": [
    "i=np.delete(h,2,axis=0)"
   ]
  },
  {
   "cell_type": "code",
   "execution_count": 144,
   "id": "9af64ded-f6ee-4ac5-ac08-5e9c325784b8",
   "metadata": {},
   "outputs": [
    {
     "data": {
      "text/plain": [
       "array([[0, 1],\n",
       "       [2, 3],\n",
       "       [6, 7],\n",
       "       [8, 9]])"
      ]
     },
     "execution_count": 144,
     "metadata": {},
     "output_type": "execute_result"
    }
   ],
   "source": [
    "i"
   ]
  },
  {
   "cell_type": "code",
   "execution_count": 145,
   "id": "b076919d-fb3f-4eb6-8c78-bb4a9de85f46",
   "metadata": {},
   "outputs": [
    {
     "data": {
      "text/plain": [
       "array([[0, 1],\n",
       "       [2, 3],\n",
       "       [4, 5],\n",
       "       [6, 7],\n",
       "       [8, 9]])"
      ]
     },
     "execution_count": 145,
     "metadata": {},
     "output_type": "execute_result"
    }
   ],
   "source": [
    "h"
   ]
  },
  {
   "cell_type": "code",
   "execution_count": 148,
   "id": "71768446-3444-4e33-bb39-c90471353768",
   "metadata": {},
   "outputs": [
    {
     "name": "stdout",
     "output_type": "stream",
     "text": [
      "Mean 4.5\n",
      "Median 4.5\n",
      "std 2.8722813232690143\n",
      "sum 45\n",
      "Min 0\n",
      "Max 9\n"
     ]
    }
   ],
   "source": [
    "print(\"Mean\",np.mean(h))\n",
    "print(\"Median\",np.median(h))\n",
    "print(\"std\",np.std(h))\n",
    "print(\"sum\",np.sum(h))\n",
    "print(\"Min\",np.min(h))\n",
    "print(\"Max\",np.max(h))"
   ]
  },
  {
   "cell_type": "code",
   "execution_count": 149,
   "id": "7bae8746-0219-45e1-a1f2-531e84c657df",
   "metadata": {},
   "outputs": [],
   "source": [
    "j=np.arange(10)"
   ]
  },
  {
   "cell_type": "code",
   "execution_count": 150,
   "id": "5e1e9218-bee8-411e-8dab-9e74f74543af",
   "metadata": {},
   "outputs": [
    {
     "data": {
      "text/plain": [
       "array([0, 1, 2, 3, 4, 5, 6, 7, 8, 9])"
      ]
     },
     "execution_count": 150,
     "metadata": {},
     "output_type": "execute_result"
    }
   ],
   "source": [
    "j"
   ]
  },
  {
   "cell_type": "code",
   "execution_count": 153,
   "id": "d671ee73-d659-4820-8a8c-68a6befe2fea",
   "metadata": {},
   "outputs": [
    {
     "name": "stdout",
     "output_type": "stream",
     "text": [
      "3\n",
      "9\n",
      "[3 4]\n"
     ]
    }
   ],
   "source": [
    "print(j[3])\n",
    "print(j[-1])\n",
    "print(j[3:5])"
   ]
  },
  {
   "cell_type": "code",
   "execution_count": 166,
   "id": "05cd8a6e-1ac7-441e-bf0a-9eb431f052c0",
   "metadata": {},
   "outputs": [],
   "source": [
    "k=j[::-1]"
   ]
  },
  {
   "cell_type": "code",
   "execution_count": 169,
   "id": "01e7bef7-94b6-4f3b-8d40-b527194e68ed",
   "metadata": {},
   "outputs": [],
   "source": [
    "k=np.flip(j)"
   ]
  },
  {
   "cell_type": "code",
   "execution_count": 170,
   "id": "fea3ea2f-013b-4b78-bed5-fd5610eeaf8f",
   "metadata": {},
   "outputs": [
    {
     "data": {
      "text/plain": [
       "array([9, 8, 7, 6, 5, 4, 3, 2, 1, 0])"
      ]
     },
     "execution_count": 170,
     "metadata": {},
     "output_type": "execute_result"
    }
   ],
   "source": [
    "k"
   ]
  },
  {
   "cell_type": "code",
   "execution_count": 173,
   "id": "0602e6a8-35f8-4de8-a4a8-7b0e8dce9985",
   "metadata": {},
   "outputs": [
    {
     "name": "stdout",
     "output_type": "stream",
     "text": [
      "[9 9 9 9 9 9 9 9 9 9]\n",
      "[-9 -7 -5 -3 -1  1  3  5  7  9]\n",
      "[ 0  8 14 18 20 20 18 14  8  0]\n",
      "[0.         0.125      0.28571429 0.5        0.8        1.25\n",
      " 2.         3.5        8.                inf]\n"
     ]
    },
    {
     "name": "stderr",
     "output_type": "stream",
     "text": [
      "C:\\Users\\xmrmo\\AppData\\Local\\Temp\\ipykernel_9204\\27825254.py:4: RuntimeWarning: divide by zero encountered in divide\n",
      "  print(j/k)\n"
     ]
    }
   ],
   "source": [
    "print(j+k)\n",
    "print(j-k)\n",
    "print(j*k)\n",
    "print(j/k)"
   ]
  },
  {
   "cell_type": "code",
   "execution_count": 180,
   "id": "5f6b5cc3-cd7c-464f-8eab-7f5917931f3a",
   "metadata": {},
   "outputs": [],
   "source": [
    "l=np.arange(6)"
   ]
  },
  {
   "cell_type": "code",
   "execution_count": 183,
   "id": "3e8ae56c-1c5a-44ad-a28d-51884ec13662",
   "metadata": {},
   "outputs": [],
   "source": [
    "n=m[::-1]"
   ]
  },
  {
   "cell_type": "code",
   "execution_count": 181,
   "id": "b1e4fc6d-c31e-4db4-b4e8-51deb718af39",
   "metadata": {},
   "outputs": [],
   "source": [
    "m=l.reshape(3,2)"
   ]
  },
  {
   "cell_type": "code",
   "execution_count": 182,
   "id": "d06768d1-c034-49ea-a009-6b8274c01714",
   "metadata": {},
   "outputs": [
    {
     "data": {
      "text/plain": [
       "array([[0, 1],\n",
       "       [2, 3],\n",
       "       [4, 5]])"
      ]
     },
     "execution_count": 182,
     "metadata": {},
     "output_type": "execute_result"
    }
   ],
   "source": [
    "m"
   ]
  },
  {
   "cell_type": "code",
   "execution_count": 184,
   "id": "c0327266-e8c5-4cfb-8b25-9ffb0f44e995",
   "metadata": {},
   "outputs": [
    {
     "data": {
      "text/plain": [
       "array([[4, 5],\n",
       "       [2, 3],\n",
       "       [0, 1]])"
      ]
     },
     "execution_count": 184,
     "metadata": {},
     "output_type": "execute_result"
    }
   ],
   "source": [
    "n"
   ]
  },
  {
   "cell_type": "code",
   "execution_count": 187,
   "id": "330dd60c-ece5-4d70-9150-36308ed5ca44",
   "metadata": {},
   "outputs": [
    {
     "name": "stdout",
     "output_type": "stream",
     "text": [
      "[[4 6]\n",
      " [4 6]\n",
      " [4 6]]\n",
      "[[-4 -4]\n",
      " [ 0  0]\n",
      " [ 4  4]]\n",
      "[[0 5]\n",
      " [4 9]\n",
      " [0 5]]\n",
      "[[0.  0.2]\n",
      " [1.  1. ]\n",
      " [inf 5. ]]\n"
     ]
    },
    {
     "name": "stderr",
     "output_type": "stream",
     "text": [
      "C:\\Users\\xmrmo\\AppData\\Local\\Temp\\ipykernel_9204\\558966692.py:4: RuntimeWarning: divide by zero encountered in divide\n",
      "  print(m/n)\n"
     ]
    }
   ],
   "source": [
    "print(m+n)\n",
    "print(m-n)\n",
    "print(m*n)\n",
    "print(m/n)"
   ]
  },
  {
   "cell_type": "code",
   "execution_count": 5,
   "id": "067de14a-de57-4fd2-860e-12fc66ec9831",
   "metadata": {},
   "outputs": [],
   "source": [
    "# empty array\n",
    "import numpy as np\n",
    "empty_arry=np.empty((3,2))"
   ]
  },
  {
   "cell_type": "code",
   "execution_count": 6,
   "id": "201ae3f3-d6fc-4d0b-aa6d-18a138fa57e7",
   "metadata": {},
   "outputs": [
    {
     "data": {
      "text/plain": [
       "array([[2.31297541e-312, 2.46151512e-312],\n",
       "       [2.01589600e-312, 2.41907520e-312],\n",
       "       [2.56761491e-312, 1.05699581e-307]])"
      ]
     },
     "execution_count": 6,
     "metadata": {},
     "output_type": "execute_result"
    }
   ],
   "source": [
    "empty_arry"
   ]
  },
  {
   "cell_type": "code",
   "execution_count": 8,
   "id": "a91965e7-b2e1-479f-9188-4ab0b51a969c",
   "metadata": {},
   "outputs": [],
   "source": [
    "# full array\n",
    "import numpy as np\n",
    "full_arry=np.full((3,3),69)"
   ]
  },
  {
   "cell_type": "code",
   "execution_count": 9,
   "id": "8cb73c83-84f5-4855-99f3-1ec7398b012a",
   "metadata": {},
   "outputs": [
    {
     "data": {
      "text/plain": [
       "array([[69, 69, 69],\n",
       "       [69, 69, 69],\n",
       "       [69, 69, 69]])"
      ]
     },
     "execution_count": 9,
     "metadata": {},
     "output_type": "execute_result"
    }
   ],
   "source": [
    "full_arry"
   ]
  },
  {
   "cell_type": "code",
   "execution_count": 10,
   "id": "4d27a636-3f4d-48d6-8ffd-ab8920c638c5",
   "metadata": {},
   "outputs": [],
   "source": [
    "# append a NumPy array to an empty array\n",
    "import numpy as np\n",
    "arr=np.array([])\n",
    "arr=np.append(arr,np.array(['A','B','C']))\n",
    "arr=np.append(arr,np.array(['D','E','F']))\n",
    "arr=np.append(arr,np.array(['G','H','I']))"
   ]
  },
  {
   "cell_type": "code",
   "execution_count": 11,
   "id": "104d21c7-a4f1-403e-94eb-87aab970a6ec",
   "metadata": {},
   "outputs": [
    {
     "data": {
      "text/plain": [
       "array(['A', 'B', 'C', 'D', 'E', 'F', 'G', 'H', 'I'], dtype='<U32')"
      ]
     },
     "execution_count": 11,
     "metadata": {},
     "output_type": "execute_result"
    }
   ],
   "source": [
    "arr"
   ]
  },
  {
   "cell_type": "code",
   "execution_count": 17,
   "id": "20bc92bc-7b4c-4fcb-9361-1f24068966d3",
   "metadata": {},
   "outputs": [],
   "source": [
    "arr1=arr.reshape((3,3))"
   ]
  },
  {
   "cell_type": "code",
   "execution_count": 18,
   "id": "7cfc9039-f9cf-4197-a6ab-39ee672b6f22",
   "metadata": {},
   "outputs": [
    {
     "data": {
      "text/plain": [
       "array([['A', 'B', 'C'],\n",
       "       ['D', 'E', 'F'],\n",
       "       ['G', 'H', 'I']], dtype='<U32')"
      ]
     },
     "execution_count": 18,
     "metadata": {},
     "output_type": "execute_result"
    }
   ],
   "source": [
    "arr1"
   ]
  },
  {
   "cell_type": "code",
   "execution_count": 28,
   "id": "6fdd83bd-e3de-4529-b1a8-6d9d61178c89",
   "metadata": {},
   "outputs": [
    {
     "name": "stdout",
     "output_type": "stream",
     "text": [
      "[['M' 'O' 'H' 'T']\n",
      " ['F' 'A' 'T' 'G']\n",
      " ['R' 'I' 'C' 'H']]\n"
     ]
    }
   ],
   "source": [
    "arr2=np.array([])\n",
    "arr2=np.hstack((arr2,np.array(['M','O','H','T'])))\n",
    "#print(arr2)\n",
    "arr2=np.vstack((arr2,np.array(['F','A','T','G'])))\n",
    "arr2=np.vstack((arr2,np.array(['R','I','C','H'])))\n",
    "print(arr2)"
   ]
  },
  {
   "cell_type": "code",
   "execution_count": 30,
   "id": "ab6b02cf-3587-4f0e-b83f-9f6a2e60fd7c",
   "metadata": {},
   "outputs": [
    {
     "data": {
      "text/plain": [
       "False"
      ]
     },
     "execution_count": 30,
     "metadata": {},
     "output_type": "execute_result"
    }
   ],
   "source": [
    "# Check whether a Numpy array contains a specified row\n",
    "(['M','O','H','I','T'] in arr2.tolist())"
   ]
  },
  {
   "cell_type": "code",
   "execution_count": 35,
   "id": "a2812839-e197-4545-989c-6dc8b89f695a",
   "metadata": {},
   "outputs": [
    {
     "name": "stdout",
     "output_type": "stream",
     "text": [
      "Before Remove [[10.5 45.6 78.6]\n",
      " [72.5  nan  nan]]\n",
      "After Remove [[10.5 45.6 78.6]]\n"
     ]
    }
   ],
   "source": [
    "# Remove rows in Numpy array that contains non-numeric values\n",
    "\n",
    "nan=np.array([[10.5,45.6,78.6]\n",
    "             ,[72.5,np.nan,np.nan]])\n",
    "print(\"Before Remove\",nan)\n",
    "rem_nan=nan[~np.isnan(nan).any(axis=1)]\n",
    "print(\"After Remove\",rem_nan)"
   ]
  },
  {
   "cell_type": "code",
   "execution_count": 15,
   "id": "afba5017-aab7-47c0-945a-afe8d801adaf",
   "metadata": {},
   "outputs": [],
   "source": [
    "import numpy as np\n",
    "a=np.arange(9)"
   ]
  },
  {
   "cell_type": "code",
   "execution_count": 16,
   "id": "7d17c9dc-3094-45e4-8e13-5d184f82f3f3",
   "metadata": {},
   "outputs": [],
   "source": [
    "a = a.reshape(3,3)"
   ]
  },
  {
   "cell_type": "code",
   "execution_count": 17,
   "id": "44a9f893-a5d8-4fee-9de9-e71b86af219b",
   "metadata": {},
   "outputs": [
    {
     "data": {
      "text/plain": [
       "array([[0, 1, 2],\n",
       "       [3, 4, 5],\n",
       "       [6, 7, 8]])"
      ]
     },
     "execution_count": 17,
     "metadata": {},
     "output_type": "execute_result"
    }
   ],
   "source": [
    "a"
   ]
  },
  {
   "cell_type": "code",
   "execution_count": 21,
   "id": "7236debb-87f5-4f68-9690-1864bfe9aa84",
   "metadata": {},
   "outputs": [
    {
     "data": {
      "text/plain": [
       "array([0, 0, 0])"
      ]
     },
     "execution_count": 21,
     "metadata": {},
     "output_type": "execute_result"
    }
   ],
   "source": [
    "a.argmin(axis=1)"
   ]
  },
  {
   "cell_type": "code",
   "execution_count": null,
   "id": "5ecb46d8-ecdf-4f08-a439-613919d30416",
   "metadata": {},
   "outputs": [],
   "source": []
  }
 ],
 "metadata": {
  "kernelspec": {
   "display_name": "Python 3 (ipykernel)",
   "language": "python",
   "name": "python3"
  },
  "language_info": {
   "codemirror_mode": {
    "name": "ipython",
    "version": 3
   },
   "file_extension": ".py",
   "mimetype": "text/x-python",
   "name": "python",
   "nbconvert_exporter": "python",
   "pygments_lexer": "ipython3",
   "version": "3.12.8"
  }
 },
 "nbformat": 4,
 "nbformat_minor": 5
}
